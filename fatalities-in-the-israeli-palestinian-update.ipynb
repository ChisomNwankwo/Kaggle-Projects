{
 "cells": [
  {
   "cell_type": "code",
   "execution_count": 1,
   "metadata": {
    "_cell_guid": "b1076dfc-b9ad-4769-8c92-a6c4dae69d19",
    "_uuid": "8f2839f25d086af736a60e9eeb907d3b93b6e0e5",
    "execution": {
     "iopub.execute_input": "2023-11-02T20:50:33.711288Z",
     "iopub.status.busy": "2023-11-02T20:50:33.710823Z",
     "iopub.status.idle": "2023-11-02T20:50:35.261981Z",
     "shell.execute_reply": "2023-11-02T20:50:35.260246Z",
     "shell.execute_reply.started": "2023-11-02T20:50:33.711252Z"
    }
   },
   "outputs": [],
   "source": [
    "# This Python 3 environment comes with many helpful analytics libraries installed\n",
    "# It is defined by the kaggle/python Docker image: https://github.com/kaggle/docker-python\n",
    "# For example, here's several helpful packages to load\n",
    "\n",
    "import numpy as np # linear algebra\n",
    "import pandas as pd # data processing, CSV file I/O (e.g. pd.read_csv)\n",
    "import matplotlib.pyplot as plt\n",
    "%matplotlib inline\n",
    "import seaborn as sns\n",
    "import datetime as dt\n",
    "\n",
    "from shapely.geometry import Point,Polygon\n",
    "#import following libraries\n",
    "import geopandas as gpd\n",
    "from geopy.exc import GeocoderTimedOut, GeocoderUnavailable, GeocoderServiceError\n",
    "from geopy.geocoders import Nominatim \n",
    "import time\n",
    "from pprint import pprint\n",
    "import folium\n",
    "\n",
    "# Input data files are available in the read-only \"../input/\" directory\n",
    "# For example, running this (by clicking run or pressing Shift+Enter) will list all files under the input directory\n",
    "\n",
    "#import os\n",
    "#for dirname, _, filenames in os.walk('/kaggle/input'):\n",
    "#    for filename in filenames:\n",
    " #       print(os.path.join(dirname, filename))\n",
    "\n",
    "# You can write up to 20GB to the current directory (/kaggle/working/) that gets preserved as output when you create a version using \"Save & Run All\" \n",
    "# You can also write temporary files to /kaggle/temp/, but they won't be saved outside of the current session"
   ]
  },
  {
   "cell_type": "code",
   "execution_count": 2,
   "metadata": {
    "execution": {
     "iopub.execute_input": "2023-11-02T20:50:35.264694Z",
     "iopub.status.busy": "2023-11-02T20:50:35.264197Z",
     "iopub.status.idle": "2023-11-02T20:50:35.411402Z",
     "shell.execute_reply": "2023-11-02T20:50:35.410238Z",
     "shell.execute_reply.started": "2023-11-02T20:50:35.264659Z"
    },
    "scrolled": true
   },
   "outputs": [],
   "source": [
    "#filepath = 'fatalities_isr_pse_conflict_2000_to_2023'\n",
    "df = pd.read_csv(\"fatalities_isr_pse_conflict_2000_to_2023.csv\") \n",
    "war = df.copy() #create copy"
   ]
  },
  {
   "cell_type": "code",
   "execution_count": 3,
   "metadata": {},
   "outputs": [
    {
     "name": "stdout",
     "output_type": "stream",
     "text": [
      "Current working directory: C:\\Users\\PC\\Documents\\KAGGLE PROJECTS\\Fatalities in the Israeli-Palestinian\n"
     ]
    }
   ],
   "source": [
    "import os\n",
    "\n",
    "current_directory = os.getcwd()\n",
    "print(\"Current working directory:\", current_directory)\n"
   ]
  },
  {
   "cell_type": "markdown",
   "metadata": {},
   "source": [
    "# About Dataset\n",
    "\n",
    "### Some Task Ideas:\n",
    "1. **Analyze Fatality Trends**: Explore the dataset and track the trends in fatalities over time. Identify any significant changes, spikes, or declines in the number of fatalities.\n",
    "\n",
    "2. **Demographic Analysis**:Conduct a demographic analysis by examining the age, gender, and citizenship of the individuals killed. Determine if there are any notable patterns or disparities in the data.\n",
    "\n",
    "3. **Geospatial Analysis**: Utilize the event location, district, and region information to perform geospatial analysis. Visualize the distribution of fatalities on a map and identify areas that have experienced higher levels of violence.\n",
    "\n",
    "4. **Hostilities Participation Analysis**:Investigate the extent of individuals' participation in hostilities before their deaths. Analyze the relationship between participation and the circumstances surrounding each fatality.\n",
    "\n",
    "5. **Injury Analysis**: Examine the types of injuries inflicted on individuals. Identify the most common types of injuries and assess their severity.\n",
    "\n",
    "6. **Weapons Used**: Analyze the ammunition and means by which the individuals were killed. Determine the most frequently used weapons or methods and evaluate their impact.\n",
    "\n",
    "7. **Victim Profiles**: Create profiles of the victims based on the available data such as age, gender, citizenship, and place of residence. Identify common characteristics among the victims."
   ]
  },
  {
   "cell_type": "markdown",
   "metadata": {},
   "source": [
    "## 1. Cleaning\n",
    "\n",
    "We will be doing the following;\n",
    "\n",
    "1. address missing values \n",
    "2. check for duplicate values\n",
    "3. check data type"
   ]
  },
  {
   "cell_type": "code",
   "execution_count": 4,
   "metadata": {
    "execution": {
     "iopub.execute_input": "2023-11-02T20:50:35.470589Z",
     "iopub.status.busy": "2023-11-02T20:50:35.470236Z",
     "iopub.status.idle": "2023-11-02T20:50:35.492760Z",
     "shell.execute_reply": "2023-11-02T20:50:35.490484Z",
     "shell.execute_reply.started": "2023-11-02T20:50:35.470560Z"
    }
   },
   "outputs": [],
   "source": [
    "war['date_of_event'] = pd.to_datetime(\n",
    "    war['date_of_event'], errors='coerce')"
   ]
  },
  {
   "cell_type": "code",
   "execution_count": 5,
   "metadata": {
    "execution": {
     "iopub.execute_input": "2023-11-02T20:50:35.495448Z",
     "iopub.status.busy": "2023-11-02T20:50:35.494978Z",
     "iopub.status.idle": "2023-11-02T20:50:35.510847Z",
     "shell.execute_reply": "2023-11-02T20:50:35.509425Z",
     "shell.execute_reply.started": "2023-11-02T20:50:35.495415Z"
    }
   },
   "outputs": [],
   "source": [
    "war['date_of_death'] = pd.to_datetime(\n",
    "    war['date_of_death'], errors='coerce')"
   ]
  },
  {
   "cell_type": "markdown",
   "metadata": {},
   "source": [
    "Just to be as accurate as possible, I am going to drop the null rows in the `age` column"
   ]
  },
  {
   "cell_type": "code",
   "execution_count": 6,
   "metadata": {
    "execution": {
     "iopub.execute_input": "2023-11-02T20:50:35.557199Z",
     "iopub.status.busy": "2023-11-02T20:50:35.555752Z",
     "iopub.status.idle": "2023-11-02T20:50:35.573443Z",
     "shell.execute_reply": "2023-11-02T20:50:35.572085Z",
     "shell.execute_reply.started": "2023-11-02T20:50:35.557148Z"
    }
   },
   "outputs": [],
   "source": [
    "war.dropna(subset=['age'], inplace=True) #drop empty rows in age column"
   ]
  },
  {
   "cell_type": "markdown",
   "metadata": {},
   "source": [
    "The rest of the information we can fill with 'Unknown'. After all, this is a war and it is impossible to have all the answers in real time"
   ]
  },
  {
   "cell_type": "code",
   "execution_count": 7,
   "metadata": {
    "execution": {
     "iopub.execute_input": "2023-11-02T20:50:35.579487Z",
     "iopub.status.busy": "2023-11-02T20:50:35.575851Z",
     "iopub.status.idle": "2023-11-02T20:50:35.609286Z",
     "shell.execute_reply": "2023-11-02T20:50:35.607606Z",
     "shell.execute_reply.started": "2023-11-02T20:50:35.579429Z"
    }
   },
   "outputs": [],
   "source": [
    "war = war.fillna('Unknown')"
   ]
  },
  {
   "cell_type": "markdown",
   "metadata": {},
   "source": [
    "### 1. **Analyze Fatality Trends**: \n",
    "\n",
    "Explore the dataset and track the trends in fatalities over time. Identify any significant changes, spikes, or declines in the number of fatalities.\n",
    "\n",
    "first, let's check if the `date_of_event` has the same data as `date_of_death`"
   ]
  },
  {
   "cell_type": "code",
   "execution_count": 8,
   "metadata": {
    "execution": {
     "iopub.execute_input": "2023-11-02T20:50:35.611462Z",
     "iopub.status.busy": "2023-11-02T20:50:35.611019Z",
     "iopub.status.idle": "2023-11-02T20:50:35.654204Z",
     "shell.execute_reply": "2023-11-02T20:50:35.653067Z",
     "shell.execute_reply.started": "2023-11-02T20:50:35.611419Z"
    },
    "scrolled": true
   },
   "outputs": [],
   "source": [
    "#war[war['date_of_event'] != war['date_of_death']]"
   ]
  },
  {
   "cell_type": "markdown",
   "metadata": {},
   "source": [
    "The columns are not the same. Let's start by checking death over time. let's create a new column 'Year' to check with year had the most death"
   ]
  },
  {
   "cell_type": "code",
   "execution_count": 9,
   "metadata": {},
   "outputs": [],
   "source": [
    "war['year'] = war['date_of_event'].dt.year"
   ]
  },
  {
   "cell_type": "code",
   "execution_count": 10,
   "metadata": {
    "execution": {
     "iopub.execute_input": "2023-11-02T20:50:35.660202Z",
     "iopub.status.busy": "2023-11-02T20:50:35.659357Z",
     "iopub.status.idle": "2023-11-02T20:50:36.287588Z",
     "shell.execute_reply": "2023-11-02T20:50:36.286271Z",
     "shell.execute_reply.started": "2023-11-02T20:50:35.660158Z"
    },
    "scrolled": true
   },
   "outputs": [
    {
     "data": {
      "image/png": "[encoded data removed]",
      "text/plain": [
       "<Figure size 1008x720 with 2 Axes>"
      ]
     },
     "metadata": {
      "needs_background": "light"
     },
     "output_type": "display_data"
    }
   ],
   "source": [
    "# Group the data by 'date_of_event' and count the occurrences to get the count of fatalities per day\n",
    "fatalities_over_time = war.groupby('year').size()\n",
    "\n",
    "# Plot the trend\n",
    "plt.subplots(figsize=(14,10))\n",
    "\n",
    "plt.subplot(2,1,1)\n",
    "fatalities_over_time.plot(kind='line')\n",
    "plt.title('Trends in Fatalities over Time')\n",
    "plt.xlabel('Date of event')\n",
    "plt.ylabel('Total Fatalities');\n",
    "\n",
    "\n",
    "plt.subplot(2,1,2)\n",
    "fatalities_over_time.plot(kind='bar')\n",
    "plt.title('Trends in Fatalities over Time')\n",
    "plt.xlabel('Date of event')\n",
    "plt.ylabel('Total Fatalities');"
   ]
  },
  {
   "cell_type": "markdown",
   "metadata": {},
   "source": [
    "### 2. **Demographic Analysis**:\n",
    "\n",
    "Conduct a demographic analysis by examining the age, gender, and citizenship of the individuals killed. Determine if there are any notable patterns or disparities in the data."
   ]
  },
  {
   "cell_type": "code",
   "execution_count": 100,
   "metadata": {},
   "outputs": [
    {
     "data": {
      "image/png": "[encoded data removed]",
      "text/plain": [
       "<Figure size 1152x432 with 2 Axes>"
      ]
     },
     "metadata": {
      "needs_background": "light"
     },
     "output_type": "display_data"
    }
   ],
   "source": [
    "# Plot the trend\n",
    "country_gender_counts = war.groupby(['citizenship', 'gender']).size().unstack()\n",
    "\n",
    "# Extract data for plotting\n",
    "countries = country_gender_counts.index.tolist()\n",
    "male_counts = country_gender_counts['M'].fillna(0).tolist()\n",
    "female_counts = country_gender_counts['F'].fillna(0).tolist()\n",
    "\n",
    "x = np.arange(len(countries))  # the label locations\n",
    "width = 0.25  # the width of the bars\n",
    "\n",
    "fig, axs = plt.subplots(1, 2, figsize=(16, 6))  # Create a 1x2 grid of subplots\n",
    "\n",
    "# Plot bars for each gender in the first subplot\n",
    "rects1 = axs[0].bar(x - width, male_counts, width, label='Male')\n",
    "rects2 = axs[0].bar(x, female_counts, width, label='Female')\n",
    "\n",
    "# Customize the first subplot\n",
    "axs[0].set_ylabel('Count')\n",
    "axs[0].set_xticks(x)\n",
    "axs[0].set_xticklabels(countries, rotation=45, ha=\"right\")\n",
    "axs[0].set_title(\"Gender Distribution Across Countries\")\n",
    "axs[0].legend()\n",
    "\n",
    "# Remove spines for the first subplot\n",
    "for location in ['top', 'bottom', 'left', 'right']:\n",
    "    axs[0].spines[location].set_visible(False)\n",
    "\n",
    "# Assuming 'war' is your DataFrame\n",
    "war['age_range'] = pd.cut(war['age'], bins=[0, 15, 35, 55, float('inf')],\n",
    "                          labels=['1-15', '16-35', '36-55', '>55'], include_lowest=True)\n",
    "\n",
    "# Plot the age range graph in the second subplot\n",
    "age = war['age_range'].value_counts().sort_index()\n",
    "\n",
    "age_range = age.index.tolist()\n",
    "age_counts = age.values.tolist()\n",
    "bar_colors = ['tab:red', 'tab:blue', 'tab:green', 'tab:orange']\n",
    "\n",
    "axs[1].bar(age_range, age_counts, color=bar_colors)\n",
    "\n",
    "# Customize the second subplot\n",
    "axs[1].set_xlabel('Age Range')\n",
    "axs[1].set_title('Age Range of People Killed in the War')\n",
    "\n",
    "# Remove spines for the second subplot\n",
    "for location in ['top', 'bottom', 'left', 'right']:\n",
    "    axs[1].spines[location].set_visible(False)\n",
    "\n",
    "plt.show()\n"
   ]
  },
  {
   "cell_type": "code",
   "execution_count": null,
   "metadata": {},
   "outputs": [],
   "source": []
  },
  {
   "cell_type": "markdown",
   "metadata": {},
   "source": [
    "### 3. **Geospatial Analysis**: \n",
    "\n",
    "Utilize the event location, district, and region information to perform geospatial analysis. Visualize the distribution of fatalities on a map and identify areas that have experienced higher levels of violence."
   ]
  },
  {
   "cell_type": "code",
   "execution_count": 15,
   "metadata": {
    "execution": {
     "iopub.execute_input": "2023-11-02T20:50:37.176370Z",
     "iopub.status.busy": "2023-11-02T20:50:37.175896Z",
     "iopub.status.idle": "2023-11-02T20:50:37.182380Z",
     "shell.execute_reply": "2023-11-02T20:50:37.180880Z",
     "shell.execute_reply.started": "2023-11-02T20:50:37.176326Z"
    }
   },
   "outputs": [],
   "source": [
    "#!pip install geopandas\n",
    "\n",
    "#!pip install geopy "
   ]
  },
  {
   "cell_type": "code",
   "execution_count": 16,
   "metadata": {
    "execution": {
     "iopub.execute_input": "2023-11-02T20:50:37.542460Z",
     "iopub.status.busy": "2023-11-02T20:50:37.542054Z",
     "iopub.status.idle": "2023-11-02T20:50:37.552852Z",
     "shell.execute_reply": "2023-11-02T20:50:37.550887Z",
     "shell.execute_reply.started": "2023-11-02T20:50:37.542427Z"
    }
   },
   "outputs": [],
   "source": [
    "### UNCOMMENT THIS CODE TO RUN\n",
    "\n",
    "#war_areas = war[['event_location','event_location_district','event_location_region']]\n",
    "\n",
    "## Remove ' at the beginning of the string and \"r.c.\" at the end of the string in the 'event_location' column\n",
    "#war_areas.loc[:,'event_location'] = war_areas['event_location'].str.replace(r\"^\\'+|\\s+R\\.C\\.$\", '', regex=True)\n",
    "\n",
    "## Combine 'event_location' and 'event_location_district' columns\n",
    "#war_areas.loc[:,'region_combined'] = war_areas['event_location'] + ',' + war_areas['event_location_region']"
   ]
  },
  {
   "cell_type": "code",
   "execution_count": 17,
   "metadata": {
    "execution": {
     "iopub.execute_input": "2023-11-02T21:07:53.779300Z",
     "iopub.status.busy": "2023-11-02T21:07:53.778524Z",
     "iopub.status.idle": "2023-11-02T21:12:09.604483Z",
     "shell.execute_reply": "2023-11-02T21:12:09.603429Z",
     "shell.execute_reply.started": "2023-11-02T21:07:53.779260Z"
    },
    "scrolled": false
   },
   "outputs": [],
   "source": [
    "#unique_regions = war_areas['region_combined'].unique()\n",
    "\n",
    "## Maximum number of attempts\n",
    "#max_attempts = 50\n",
    "\n",
    "# Your existing code\n",
    "#latitude_dict = {}\n",
    "#longitude_dict = {}\n",
    "\n",
    "#def findGeocode(city):\n",
    "#    attempts = 0\n",
    "#    while attempts < max_attempts:\n",
    "#        try:\n",
    "#            geolocator = Nominatim(user_agent=\"war areas\")\n",
    "#            location = geolocator.geocode(city)\n",
    "#            if location:\n",
    "#                return location.raw\n",
    "#            else:\n",
    "#                return None\n",
    "#        except GeocoderTimedOut as e:\n",
    "#            print(\"Timeout error. Retrying...\")\n",
    "#            time.sleep(1)  # Wait for a second before retrying\n",
    "#            attempts += 1\n",
    "#        except (GeocoderUnavailable, GeocoderServiceError) as e:\n",
    "#            print(\"Geocoder service is unavailable. Check your internet connection or try again later.\")\n",
    "#            return None\n",
    "#    return None  # Return None if maximum attempts are reached without success\n",
    "\n",
    "## Let's apply our function\n",
    "#for region in unique_regions: \n",
    "#    location = findGeocode(region)\n",
    "#    if location:\n",
    "#        latitude_dict[region] = location['lat']\n",
    "#        longitude_dict[region] = location['lon']\n",
    "#    else:\n",
    "#        latitude_dict[region] = np.nan\n",
    "#        longitude_dict[region] = np.nan"
   ]
  },
  {
   "cell_type": "code",
   "execution_count": 18,
   "metadata": {
    "scrolled": true
   },
   "outputs": [],
   "source": [
    "#UNCOMMENT TO RUN CODE!!!\n",
    "\n",
    "## Create new columns in the war_areas DataFrame\n",
    "#war_areas.loc[:,'latitude'] = war_areas['region_combined'].map(latitude_dict)\n",
    "#war_areas.loc[:,'longitude'] = war_areas['region_combined'].map(longitude_dict)\n",
    "\n",
    "##export the war_areas as csv file\n",
    "\n",
    "#war_areas.to_csv('war_areas_geo.csv',index = False)"
   ]
  },
  {
   "cell_type": "markdown",
   "metadata": {},
   "source": [
    "----"
   ]
  },
  {
   "cell_type": "code",
   "execution_count": 19,
   "metadata": {},
   "outputs": [],
   "source": [
    "war_areas = pd.read_csv('war_areas_geo.csv')\n",
    "df = war_areas.copy()\n",
    "df.drop('region_combined',axis=1,inplace=True)"
   ]
  },
  {
   "cell_type": "code",
   "execution_count": 20,
   "metadata": {
    "scrolled": true
   },
   "outputs": [],
   "source": [
    "# Combining Lattitude and Longitude to create hurricane coordinates:\n",
    "df['coordinates'] = df[['longitude', 'latitude']].values.tolist()"
   ]
  },
  {
   "cell_type": "code",
   "execution_count": 21,
   "metadata": {
    "scrolled": false
   },
   "outputs": [],
   "source": [
    "# Change the coordinates to a GeoPoint\n",
    "df['coordinates'] = df['coordinates'].apply(Point)\n",
    "\n",
    "# Create a bounding box around the centroid (you can adjust the size as needed)\n",
    "buffer_distance = 0.1  # Adjust the buffer distance based on your requirements\n",
    "df['bounding_box'] = df['coordinates'].apply(lambda point: point.buffer(buffer_distance))\n",
    "\n",
    "# Create a Polygon using the bounding box\n",
    "df['polygon_geometry'] = df['bounding_box'].apply(lambda box: Polygon(box.exterior))"
   ]
  },
  {
   "cell_type": "code",
   "execution_count": 25,
   "metadata": {},
   "outputs": [],
   "source": [
    "# Convert the count df to geodf\n",
    "geo_df = gpd.GeoDataFrame(df)\n",
    "\n",
    "#set geometry\n",
    "geo_df = geo_df.set_geometry('polygon_geometry') "
   ]
  },
  {
   "cell_type": "code",
   "execution_count": 26,
   "metadata": {},
   "outputs": [],
   "source": [
    "# Create the dictionary\n",
    "district_coords = {}\n",
    "for district in df['event_location_district'].unique():\n",
    "    district_data = df[df['event_location_district'] == district]\n",
    "    mean_latitude = district_data['latitude'].mean()\n",
    "    mean_longitude = district_data['longitude'].mean()\n",
    "    district_coords[district] = [mean_latitude, mean_longitude]"
   ]
  },
  {
   "cell_type": "code",
   "execution_count": 28,
   "metadata": {},
   "outputs": [
    {
     "data": {
      "text/html": [
       "<div style=\"width:100%;\"><div style=\"position:relative;width:100%;height:0;padding-bottom:60%;\"><span style=\"color:#565656\">Make this Notebook Trusted to load map: File -> Trust Notebook</span><iframe srcdoc=\"&lt;!DOCTYPE html&gt;\n",
       "&lt;html&gt;\n",
       "&lt;head&gt;\n",
       "    \n",
       "    &lt;meta http-equiv=&quot;content-type&quot; content=&quot;text/html; charset=UTF-8&quot; /&gt;\n",
       "    \n",
       "        &lt;script&gt;\n",
       "            L_NO_TOUCH = false;\n",
       "            L_DISABLE_3D = false;\n",
       "        &lt;/script&gt;\n",
       "    \n",
       "    &lt;style&gt;html, body {width: 100%;height: 100%;margin: 0;padding: 0;}&lt;/style&gt;\n",
       "    &lt;style&gt;#map {position:absolute;top:0;bottom:0;right:0;left:0;}&lt;/style&gt;\n",
       "    &lt;script src=&quot;https://cdn.jsdelivr.net/npm/leaflet@1.9.3/dist/leaflet.js&quot;&gt;&lt;/script&gt;\n",
       "    &lt;script src=&quot;https://code.jquery.com/jquery-3.7.1.min.js&quot;&gt;&lt;/script&gt;\n",
       "    &lt;script src=&quot;https://cdn.jsdelivr.net/npm/bootstrap@5.2.2/dist/js/bootstrap.bundle.min.js&quot;&gt;&lt;/script&gt;\n",
       "    &lt;script src=&quot;https://cdnjs.cloudflare.com/ajax/libs/Leaflet.awesome-markers/2.0.2/leaflet.awesome-markers.js&quot;&gt;&lt;/script&gt;\n",
       "    &lt;link rel=&quot;stylesheet&quot; href=&quot;https://cdn.jsdelivr.net/npm/leaflet@1.9.3/dist/leaflet.css&quot;/&gt;\n",
       "    &lt;link rel=&quot;stylesheet&quot; href=&quot;https://cdn.jsdelivr.net/npm/bootstrap@5.2.2/dist/css/bootstrap.min.css&quot;/&gt;\n",
       "    &lt;link rel=&quot;stylesheet&quot; href=&quot;https://netdna.bootstrapcdn.com/bootstrap/3.0.0/css/bootstrap.min.css&quot;/&gt;\n",
       "    &lt;link rel=&quot;stylesheet&quot; href=&quot;https://cdn.jsdelivr.net/npm/@fortawesome/fontawesome-free@6.2.0/css/all.min.css&quot;/&gt;\n",
       "    &lt;link rel=&quot;stylesheet&quot; href=&quot;https://cdnjs.cloudflare.com/ajax/libs/Leaflet.awesome-markers/2.0.2/leaflet.awesome-markers.css&quot;/&gt;\n",
       "    &lt;link rel=&quot;stylesheet&quot; href=&quot;https://cdn.jsdelivr.net/gh/python-visualization/folium/folium/templates/leaflet.awesome.rotate.min.css&quot;/&gt;\n",
       "    \n",
       "            &lt;meta name=&quot;viewport&quot; content=&quot;width=device-width,\n",
       "                initial-scale=1.0, maximum-scale=1.0, user-scalable=no&quot; /&gt;\n",
       "            &lt;style&gt;\n",
       "                #map_66ab073b3b375abd4f465f87bc0fa094 {\n",
       "                    position: relative;\n",
       "                    width: 100.0%;\n",
       "                    height: 100.0%;\n",
       "                    left: 0.0%;\n",
       "                    top: 0.0%;\n",
       "                }\n",
       "                .leaflet-container { font-size: 1rem; }\n",
       "            &lt;/style&gt;\n",
       "        \n",
       "&lt;/head&gt;\n",
       "&lt;body&gt;\n",
       "    \n",
       "    \n",
       "            &lt;div class=&quot;folium-map&quot; id=&quot;map_66ab073b3b375abd4f465f87bc0fa094&quot; &gt;&lt;/div&gt;\n",
       "        \n",
       "&lt;/body&gt;\n",
       "&lt;script&gt;\n",
       "    \n",
       "    \n",
       "            var map_66ab073b3b375abd4f465f87bc0fa094 = L.map(\n",
       "                &quot;map_66ab073b3b375abd4f465f87bc0fa094&quot;,\n",
       "                {\n",
       "                    center: [32.0, 34.75],\n",
       "                    crs: L.CRS.EPSG3857,\n",
       "                    zoom: 8,\n",
       "                    zoomControl: true,\n",
       "                    preferCanvas: false,\n",
       "                }\n",
       "            );\n",
       "\n",
       "            \n",
       "\n",
       "        \n",
       "    \n",
       "            var tile_layer_22a36d129eb0bfcfdc2ae223ad7e0390 = L.tileLayer(\n",
       "                &quot;https://tile.openstreetmap.org/{z}/{x}/{y}.png&quot;,\n",
       "                {&quot;attribution&quot;: &quot;\\u0026copy; \\u003ca href=\\&quot;https://www.openstreetmap.org/copyright\\&quot;\\u003eOpenStreetMap\\u003c/a\\u003e contributors&quot;, &quot;detectRetina&quot;: false, &quot;maxNativeZoom&quot;: 19, &quot;maxZoom&quot;: 19, &quot;minZoom&quot;: 0, &quot;noWrap&quot;: false, &quot;opacity&quot;: 1, &quot;subdomains&quot;: &quot;abc&quot;, &quot;tms&quot;: false}\n",
       "            );\n",
       "        \n",
       "    \n",
       "            tile_layer_22a36d129eb0bfcfdc2ae223ad7e0390.addTo(map_66ab073b3b375abd4f465f87bc0fa094);\n",
       "        \n",
       "    \n",
       "            var marker_e8f31b053182631505ed2a79ee69bdbd = L.marker(\n",
       "                [32.55753858078948, 32.63740164803671],\n",
       "                {}\n",
       "            ).addTo(map_66ab073b3b375abd4f465f87bc0fa094);\n",
       "        \n",
       "    \n",
       "            marker_e8f31b053182631505ed2a79ee69bdbd.bindTooltip(\n",
       "                `&lt;div&gt;\n",
       "                     District: Tulkarm, Fatalities: 190\n",
       "                 &lt;/div&gt;`,\n",
       "                {&quot;sticky&quot;: true}\n",
       "            );\n",
       "        \n",
       "    \n",
       "            var circle_758dc8e51ac68e1d66130146cd778f6c = L.circle(\n",
       "                [32.55753858078948, 32.63740164803671],\n",
       "                {&quot;bubblingMouseEvents&quot;: true, &quot;color&quot;: &quot;orange&quot;, &quot;dashArray&quot;: null, &quot;dashOffset&quot;: null, &quot;fill&quot;: true, &quot;fillColor&quot;: &quot;orange&quot;, &quot;fillOpacity&quot;: 0.6, &quot;fillRule&quot;: &quot;evenodd&quot;, &quot;lineCap&quot;: &quot;round&quot;, &quot;lineJoin&quot;: &quot;round&quot;, &quot;opacity&quot;: 1.0, &quot;radius&quot;: 16540.858502508265, &quot;stroke&quot;: true, &quot;weight&quot;: 3}\n",
       "            ).addTo(map_66ab073b3b375abd4f465f87bc0fa094);\n",
       "        \n",
       "    \n",
       "            var marker_e3864e59879fc7991265cc80b9427777 = L.marker(\n",
       "                [32.35886360538641, 35.44853304918034],\n",
       "                {}\n",
       "            ).addTo(map_66ab073b3b375abd4f465f87bc0fa094);\n",
       "        \n",
       "    \n",
       "            marker_e3864e59879fc7991265cc80b9427777.bindTooltip(\n",
       "                `&lt;div&gt;\n",
       "                     District: Jenin, Fatalities: 427\n",
       "                 &lt;/div&gt;`,\n",
       "                {&quot;sticky&quot;: true}\n",
       "            );\n",
       "        \n",
       "    \n",
       "            var circle_92a74270616f1fe4497a46f11d353c43 = L.circle(\n",
       "                [32.35886360538641, 35.44853304918034],\n",
       "                {&quot;bubblingMouseEvents&quot;: true, &quot;color&quot;: &quot;orange&quot;, &quot;dashArray&quot;: null, &quot;dashOffset&quot;: null, &quot;fill&quot;: true, &quot;fillColor&quot;: &quot;orange&quot;, &quot;fillOpacity&quot;: 0.6, &quot;fillRule&quot;: &quot;evenodd&quot;, &quot;lineCap&quot;: &quot;round&quot;, &quot;lineJoin&quot;: &quot;round&quot;, &quot;opacity&quot;: 1.0, &quot;radius&quot;: 24796.77398372619, &quot;stroke&quot;: true, &quot;weight&quot;: 3}\n",
       "            ).addTo(map_66ab073b3b375abd4f465f87bc0fa094);\n",
       "        \n",
       "    \n",
       "            var marker_41eb6b2ab8110252757ae01a82a56c87 = L.marker(\n",
       "                [32.01355334, 35.39477180571429],\n",
       "                {}\n",
       "            ).addTo(map_66ab073b3b375abd4f465f87bc0fa094);\n",
       "        \n",
       "    \n",
       "            marker_41eb6b2ab8110252757ae01a82a56c87.bindTooltip(\n",
       "                `&lt;div&gt;\n",
       "                     District: Jericho, Fatalities: 35\n",
       "                 &lt;/div&gt;`,\n",
       "                {&quot;sticky&quot;: true}\n",
       "            );\n",
       "        \n",
       "    \n",
       "            var circle_d88517c5196e7acbd25eec2db25efdeb = L.circle(\n",
       "                [32.01355334, 35.39477180571429],\n",
       "                {&quot;bubblingMouseEvents&quot;: true, &quot;color&quot;: &quot;grey&quot;, &quot;dashArray&quot;: null, &quot;dashOffset&quot;: null, &quot;fill&quot;: true, &quot;fillColor&quot;: &quot;grey&quot;, &quot;fillOpacity&quot;: 0.6, &quot;fillRule&quot;: &quot;evenodd&quot;, &quot;lineCap&quot;: &quot;round&quot;, &quot;lineJoin&quot;: &quot;round&quot;, &quot;opacity&quot;: 1.0, &quot;radius&quot;: 7099.29573971954, &quot;stroke&quot;: true, &quot;weight&quot;: 3}\n",
       "            ).addTo(map_66ab073b3b375abd4f465f87bc0fa094);\n",
       "        \n",
       "    \n",
       "            var marker_7d7a0fc7ae5b7da841d4a73543dba0da = L.marker(\n",
       "                [31.50379732217949, 34.46222733589711],\n",
       "                {}\n",
       "            ).addTo(map_66ab073b3b375abd4f465f87bc0fa094);\n",
       "        \n",
       "    \n",
       "            marker_7d7a0fc7ae5b7da841d4a73543dba0da.bindTooltip(\n",
       "                `&lt;div&gt;\n",
       "                     District: Gaza, Fatalities: 2340\n",
       "                 &lt;/div&gt;`,\n",
       "                {&quot;sticky&quot;: true}\n",
       "            );\n",
       "        \n",
       "    \n",
       "            var circle_0858de606fb4597e68201e9a6534f40e = L.circle(\n",
       "                [31.50379732217949, 34.46222733589711],\n",
       "                {&quot;bubblingMouseEvents&quot;: true, &quot;color&quot;: &quot;darkred&quot;, &quot;dashArray&quot;: null, &quot;dashOffset&quot;: null, &quot;fill&quot;: true, &quot;fillColor&quot;: &quot;darkred&quot;, &quot;fillOpacity&quot;: 0.6, &quot;fillRule&quot;: &quot;evenodd&quot;, &quot;lineCap&quot;: &quot;round&quot;, &quot;lineJoin&quot;: &quot;round&quot;, &quot;opacity&quot;: 1.0, &quot;radius&quot;: 58048.25578774956, &quot;stroke&quot;: true, &quot;weight&quot;: 3}\n",
       "            ).addTo(map_66ab073b3b375abd4f465f87bc0fa094);\n",
       "        \n",
       "    \n",
       "            var marker_6b1fdccb0b9bebbc674a01c7f063ad16 = L.marker(\n",
       "                [31.30597878787313, 35.395514308654946],\n",
       "                {}\n",
       "            ).addTo(map_66ab073b3b375abd4f465f87bc0fa094);\n",
       "        \n",
       "    \n",
       "            marker_6b1fdccb0b9bebbc674a01c7f063ad16.bindTooltip(\n",
       "                `&lt;div&gt;\n",
       "                     District: Hebron, Fatalities: 268\n",
       "                 &lt;/div&gt;`,\n",
       "                {&quot;sticky&quot;: true}\n",
       "            );\n",
       "        \n",
       "    \n",
       "            var circle_90721bbc8f3d3bf4348205c3a86f17e4 = L.circle(\n",
       "                [31.30597878787313, 35.395514308654946],\n",
       "                {&quot;bubblingMouseEvents&quot;: true, &quot;color&quot;: &quot;orange&quot;, &quot;dashArray&quot;: null, &quot;dashOffset&quot;: null, &quot;fill&quot;: true, &quot;fillColor&quot;: &quot;orange&quot;, &quot;fillOpacity&quot;: 0.6, &quot;fillRule&quot;: &quot;evenodd&quot;, &quot;lineCap&quot;: &quot;round&quot;, &quot;lineJoin&quot;: &quot;round&quot;, &quot;opacity&quot;: 1.0, &quot;radius&quot;: 19644.84665249388, &quot;stroke&quot;: true, &quot;weight&quot;: 3}\n",
       "            ).addTo(map_66ab073b3b375abd4f465f87bc0fa094);\n",
       "        \n",
       "    \n",
       "            var marker_5b7a8ca8b8c4570464700e9724d2bd9f = L.marker(\n",
       "                [32.30544923478261, 35.366677317391314],\n",
       "                {}\n",
       "            ).addTo(map_66ab073b3b375abd4f465f87bc0fa094);\n",
       "        \n",
       "    \n",
       "            marker_5b7a8ca8b8c4570464700e9724d2bd9f.bindTooltip(\n",
       "                `&lt;div&gt;\n",
       "                     District: Tubas, Fatalities: 46\n",
       "                 &lt;/div&gt;`,\n",
       "                {&quot;sticky&quot;: true}\n",
       "            );\n",
       "        \n",
       "    \n",
       "            var circle_3f63dad6549cda3c74cc3dad36022935 = L.circle(\n",
       "                [32.30544923478261, 35.366677317391314],\n",
       "                {&quot;bubblingMouseEvents&quot;: true, &quot;color&quot;: &quot;grey&quot;, &quot;dashArray&quot;: null, &quot;dashOffset&quot;: null, &quot;fill&quot;: true, &quot;fillColor&quot;: &quot;grey&quot;, &quot;fillOpacity&quot;: 0.6, &quot;fillRule&quot;: &quot;evenodd&quot;, &quot;lineCap&quot;: &quot;round&quot;, &quot;lineJoin&quot;: &quot;round&quot;, &quot;opacity&quot;: 1.0, &quot;radius&quot;: 8138.795979750322, &quot;stroke&quot;: true, &quot;weight&quot;: 3}\n",
       "            ).addTo(map_66ab073b3b375abd4f465f87bc0fa094);\n",
       "        \n",
       "    \n",
       "            var marker_248c240495f5769e2ff969f5a61e5d99 = L.marker(\n",
       "                [32.519521525, 25.53002413955127],\n",
       "                {}\n",
       "            ).addTo(map_66ab073b3b375abd4f465f87bc0fa094);\n",
       "        \n",
       "    \n",
       "            marker_248c240495f5769e2ff969f5a61e5d99.bindTooltip(\n",
       "                `&lt;div&gt;\n",
       "                     District: Ramallah and al-Bira, Fatalities: 220\n",
       "                 &lt;/div&gt;`,\n",
       "                {&quot;sticky&quot;: true}\n",
       "            );\n",
       "        \n",
       "    \n",
       "            var circle_71b3fc9333bb59ae7099abe78d23065c = L.circle(\n",
       "                [32.519521525, 25.53002413955127],\n",
       "                {&quot;bubblingMouseEvents&quot;: true, &quot;color&quot;: &quot;orange&quot;, &quot;dashArray&quot;: null, &quot;dashOffset&quot;: null, &quot;fill&quot;: true, &quot;fillColor&quot;: &quot;orange&quot;, &quot;fillOpacity&quot;: 0.6, &quot;fillRule&quot;: &quot;evenodd&quot;, &quot;lineCap&quot;: &quot;round&quot;, &quot;lineJoin&quot;: &quot;round&quot;, &quot;opacity&quot;: 1.0, &quot;radius&quot;: 17798.876369029593, &quot;stroke&quot;: true, &quot;weight&quot;: 3}\n",
       "            ).addTo(map_66ab073b3b375abd4f465f87bc0fa094);\n",
       "        \n",
       "    \n",
       "            var marker_f0e6bc9acf9ba223b4fe3104c8ecd478 = L.marker(\n",
       "                [30.58659138327138, 30.645307384944235],\n",
       "                {}\n",
       "            ).addTo(map_66ab073b3b375abd4f465f87bc0fa094);\n",
       "        \n",
       "    \n",
       "            marker_f0e6bc9acf9ba223b4fe3104c8ecd478.bindTooltip(\n",
       "                `&lt;div&gt;\n",
       "                     District: Nablus, Fatalities: 538\n",
       "                 &lt;/div&gt;`,\n",
       "                {&quot;sticky&quot;: true}\n",
       "            );\n",
       "        \n",
       "    \n",
       "            var circle_0811724fc2f5b0c9380d1597199c0c8a = L.circle(\n",
       "                [30.58659138327138, 30.645307384944235],\n",
       "                {&quot;bubblingMouseEvents&quot;: true, &quot;color&quot;: &quot;green&quot;, &quot;dashArray&quot;: null, &quot;dashOffset&quot;: null, &quot;fill&quot;: true, &quot;fillColor&quot;: &quot;green&quot;, &quot;fillOpacity&quot;: 0.6, &quot;fillRule&quot;: &quot;evenodd&quot;, &quot;lineCap&quot;: &quot;round&quot;, &quot;lineJoin&quot;: &quot;round&quot;, &quot;opacity&quot;: 1.0, &quot;radius&quot;: 27833.792411383685, &quot;stroke&quot;: true, &quot;weight&quot;: 3}\n",
       "            ).addTo(map_66ab073b3b375abd4f465f87bc0fa094);\n",
       "        \n",
       "    \n",
       "            var marker_7d6d0c8f09c8620bdf6fc23aa4c6b914 = L.marker(\n",
       "                [32.03848652458194, 34.98301135206708],\n",
       "                {}\n",
       "            ).addTo(map_66ab073b3b375abd4f465f87bc0fa094);\n",
       "        \n",
       "    \n",
       "            marker_7d6d0c8f09c8620bdf6fc23aa4c6b914.bindTooltip(\n",
       "                `&lt;div&gt;\n",
       "                     District: Israel, Fatalities: 598\n",
       "                 &lt;/div&gt;`,\n",
       "                {&quot;sticky&quot;: true}\n",
       "            );\n",
       "        \n",
       "    \n",
       "            var circle_44eb7db494e2ba9b87a7c5d01dde2b19 = L.circle(\n",
       "                [32.03848652458194, 34.98301135206708],\n",
       "                {&quot;bubblingMouseEvents&quot;: true, &quot;color&quot;: &quot;green&quot;, &quot;dashArray&quot;: null, &quot;dashOffset&quot;: null, &quot;fill&quot;: true, &quot;fillColor&quot;: &quot;green&quot;, &quot;fillOpacity&quot;: 0.6, &quot;fillRule&quot;: &quot;evenodd&quot;, &quot;lineCap&quot;: &quot;round&quot;, &quot;lineJoin&quot;: &quot;round&quot;, &quot;opacity&quot;: 1.0, &quot;radius&quot;: 29344.84622552996, &quot;stroke&quot;: true, &quot;weight&quot;: 3}\n",
       "            ).addTo(map_66ab073b3b375abd4f465f87bc0fa094);\n",
       "        \n",
       "    \n",
       "            var marker_f38a1c2306a80b4643e17e68927ed9e9 = L.marker(\n",
       "                [31.84386291052632, 35.225413626315785],\n",
       "                {}\n",
       "            ).addTo(map_66ab073b3b375abd4f465f87bc0fa094);\n",
       "        \n",
       "    \n",
       "            marker_f38a1c2306a80b4643e17e68927ed9e9.bindTooltip(\n",
       "                `&lt;div&gt;\n",
       "                     District: al-Quds, Fatalities: 19\n",
       "                 &lt;/div&gt;`,\n",
       "                {&quot;sticky&quot;: true}\n",
       "            );\n",
       "        \n",
       "    \n",
       "            var circle_6ddde03c6efdba84850ade73027af4fb = L.circle(\n",
       "                [31.84386291052632, 35.225413626315785],\n",
       "                {&quot;bubblingMouseEvents&quot;: true, &quot;color&quot;: &quot;grey&quot;, &quot;dashArray&quot;: null, &quot;dashOffset&quot;: null, &quot;fill&quot;: true, &quot;fillColor&quot;: &quot;grey&quot;, &quot;fillOpacity&quot;: 0.6, &quot;fillRule&quot;: &quot;evenodd&quot;, &quot;lineCap&quot;: &quot;round&quot;, &quot;lineJoin&quot;: &quot;round&quot;, &quot;opacity&quot;: 1.0, &quot;radius&quot;: 5230.678732248809, &quot;stroke&quot;: true, &quot;weight&quot;: 3}\n",
       "            ).addTo(map_66ab073b3b375abd4f465f87bc0fa094);\n",
       "        \n",
       "    \n",
       "            var marker_66a27bfd0c30875cfd4fd9944d60fd96 = L.marker(\n",
       "                [31.013812976991154, 29.489234043743235],\n",
       "                {}\n",
       "            ).addTo(map_66ab073b3b375abd4f465f87bc0fa094);\n",
       "        \n",
       "    \n",
       "            marker_66a27bfd0c30875cfd4fd9944d60fd96.bindTooltip(\n",
       "                `&lt;div&gt;\n",
       "                     District: Bethlehem, Fatalities: 113\n",
       "                 &lt;/div&gt;`,\n",
       "                {&quot;sticky&quot;: true}\n",
       "            );\n",
       "        \n",
       "    \n",
       "            var circle_400e01d0e5a1880edde4094d6344d05b = L.circle(\n",
       "                [31.013812976991154, 29.489234043743235],\n",
       "                {&quot;bubblingMouseEvents&quot;: true, &quot;color&quot;: &quot;orange&quot;, &quot;dashArray&quot;: null, &quot;dashOffset&quot;: null, &quot;fill&quot;: true, &quot;fillColor&quot;: &quot;orange&quot;, &quot;fillOpacity&quot;: 0.6, &quot;fillRule&quot;: &quot;evenodd&quot;, &quot;lineCap&quot;: &quot;round&quot;, &quot;lineJoin&quot;: &quot;round&quot;, &quot;opacity&quot;: 1.0, &quot;radius&quot;: 12756.17497528158, &quot;stroke&quot;: true, &quot;weight&quot;: 3}\n",
       "            ).addTo(map_66ab073b3b375abd4f465f87bc0fa094);\n",
       "        \n",
       "    \n",
       "            var marker_7227e3e76c11ade383f2dc59feeb977e = L.marker(\n",
       "                [31.33486750160787, 34.316921976429065],\n",
       "                {}\n",
       "            ).addTo(map_66ab073b3b375abd4f465f87bc0fa094);\n",
       "        \n",
       "    \n",
       "            marker_7227e3e76c11ade383f2dc59feeb977e.bindTooltip(\n",
       "                `&lt;div&gt;\n",
       "                     District: Khan Yunis, Fatalities: 964\n",
       "                 &lt;/div&gt;`,\n",
       "                {&quot;sticky&quot;: true}\n",
       "            );\n",
       "        \n",
       "    \n",
       "            var circle_6f8d8b28e2e37cdbcd5a752dcd8a00c4 = L.circle(\n",
       "                [31.33486750160787, 34.316921976429065],\n",
       "                {&quot;bubblingMouseEvents&quot;: true, &quot;color&quot;: &quot;green&quot;, &quot;dashArray&quot;: null, &quot;dashOffset&quot;: null, &quot;fill&quot;: true, &quot;fillColor&quot;: &quot;green&quot;, &quot;fillOpacity&quot;: 0.6, &quot;fillRule&quot;: &quot;evenodd&quot;, &quot;lineCap&quot;: &quot;round&quot;, &quot;lineJoin&quot;: &quot;round&quot;, &quot;opacity&quot;: 1.0, &quot;radius&quot;: 37258.01927102406, &quot;stroke&quot;: true, &quot;weight&quot;: 3}\n",
       "            ).addTo(map_66ab073b3b375abd4f465f87bc0fa094);\n",
       "        \n",
       "    \n",
       "            var marker_61e170257cf8dd2b67c7c7547db9197c = L.marker(\n",
       "                [31.433775566188768, 34.3834467552457],\n",
       "                {}\n",
       "            ).addTo(map_66ab073b3b375abd4f465f87bc0fa094);\n",
       "        \n",
       "    \n",
       "            marker_61e170257cf8dd2b67c7c7547db9197c.bindTooltip(\n",
       "                `&lt;div&gt;\n",
       "                     District: Deir al-Balah, Fatalities: 837\n",
       "                 &lt;/div&gt;`,\n",
       "                {&quot;sticky&quot;: true}\n",
       "            );\n",
       "        \n",
       "    \n",
       "            var circle_36cb572ade392d89cbb8e9082a13da0b = L.circle(\n",
       "                [31.433775566188768, 34.3834467552457],\n",
       "                {&quot;bubblingMouseEvents&quot;: true, &quot;color&quot;: &quot;green&quot;, &quot;dashArray&quot;: null, &quot;dashOffset&quot;: null, &quot;fill&quot;: true, &quot;fillColor&quot;: &quot;green&quot;, &quot;fillOpacity&quot;: 0.6, &quot;fillRule&quot;: &quot;evenodd&quot;, &quot;lineCap&quot;: &quot;round&quot;, &quot;lineJoin&quot;: &quot;round&quot;, &quot;opacity&quot;: 1.0, &quot;radius&quot;: 34717.142739574636, &quot;stroke&quot;: true, &quot;weight&quot;: 3}\n",
       "            ).addTo(map_66ab073b3b375abd4f465f87bc0fa094);\n",
       "        \n",
       "    \n",
       "            var marker_27013e003d6c1a1fb9c453da2533a855 = L.marker(\n",
       "                [31.539332169876825, 34.50692321187011],\n",
       "                {}\n",
       "            ).addTo(map_66ab073b3b375abd4f465f87bc0fa094);\n",
       "        \n",
       "    \n",
       "            marker_27013e003d6c1a1fb9c453da2533a855.bindTooltip(\n",
       "                `&lt;div&gt;\n",
       "                     District: North Gaza, Fatalities: 1786\n",
       "                 &lt;/div&gt;`,\n",
       "                {&quot;sticky&quot;: true}\n",
       "            );\n",
       "        \n",
       "    \n",
       "            var circle_7981ed87db5a048d67cbd67df4f2ae5b = L.circle(\n",
       "                [31.539332169876825, 34.50692321187011],\n",
       "                {&quot;bubblingMouseEvents&quot;: true, &quot;color&quot;: &quot;darkred&quot;, &quot;dashArray&quot;: null, &quot;dashOffset&quot;: null, &quot;fill&quot;: true, &quot;fillColor&quot;: &quot;darkred&quot;, &quot;fillOpacity&quot;: 0.6, &quot;fillRule&quot;: &quot;evenodd&quot;, &quot;lineCap&quot;: &quot;round&quot;, &quot;lineJoin&quot;: &quot;round&quot;, &quot;opacity&quot;: 1.0, &quot;radius&quot;: 50713.31186187705, &quot;stroke&quot;: true, &quot;weight&quot;: 3}\n",
       "            ).addTo(map_66ab073b3b375abd4f465f87bc0fa094);\n",
       "        \n",
       "    \n",
       "            var marker_560e98a1eee233fe980eccc1288637e8 = L.marker(\n",
       "                [31.275113713841204, 34.25602697120383],\n",
       "                {}\n",
       "            ).addTo(map_66ab073b3b375abd4f465f87bc0fa094);\n",
       "        \n",
       "    \n",
       "            marker_560e98a1eee233fe980eccc1288637e8.bindTooltip(\n",
       "                `&lt;div&gt;\n",
       "                     District: Rafah, Fatalities: 932\n",
       "                 &lt;/div&gt;`,\n",
       "                {&quot;sticky&quot;: true}\n",
       "            );\n",
       "        \n",
       "    \n",
       "            var circle_f17265781e51c798be3dd8d7dab9a797 = L.circle(\n",
       "                [31.275113713841204, 34.25602697120383],\n",
       "                {&quot;bubblingMouseEvents&quot;: true, &quot;color&quot;: &quot;green&quot;, &quot;dashArray&quot;: null, &quot;dashOffset&quot;: null, &quot;fill&quot;: true, &quot;fillColor&quot;: &quot;green&quot;, &quot;fillOpacity&quot;: 0.6, &quot;fillRule&quot;: &quot;evenodd&quot;, &quot;lineCap&quot;: &quot;round&quot;, &quot;lineJoin&quot;: &quot;round&quot;, &quot;opacity&quot;: 1.0, &quot;radius&quot;: 36634.41005393699, &quot;stroke&quot;: true, &quot;weight&quot;: 3}\n",
       "            ).addTo(map_66ab073b3b375abd4f465f87bc0fa094);\n",
       "        \n",
       "    \n",
       "            var marker_77ddf6e0c91df64c7f23248220200036 = L.marker(\n",
       "                [31.693373428571427, 36.24728327857142],\n",
       "                {}\n",
       "            ).addTo(map_66ab073b3b375abd4f465f87bc0fa094);\n",
       "        \n",
       "    \n",
       "            marker_77ddf6e0c91df64c7f23248220200036.bindTooltip(\n",
       "                `&lt;div&gt;\n",
       "                     District: Qalqiliya, Fatalities: 14\n",
       "                 &lt;/div&gt;`,\n",
       "                {&quot;sticky&quot;: true}\n",
       "            );\n",
       "        \n",
       "    \n",
       "            var circle_275c9eeeef4b06e39673afde099327e5 = L.circle(\n",
       "                [31.693373428571427, 36.24728327857142],\n",
       "                {&quot;bubblingMouseEvents&quot;: true, &quot;color&quot;: &quot;grey&quot;, &quot;dashArray&quot;: null, &quot;dashOffset&quot;: null, &quot;fill&quot;: true, &quot;fillColor&quot;: &quot;grey&quot;, &quot;fillOpacity&quot;: 0.6, &quot;fillRule&quot;: &quot;evenodd&quot;, &quot;lineCap&quot;: &quot;round&quot;, &quot;lineJoin&quot;: &quot;round&quot;, &quot;opacity&quot;: 1.0, &quot;radius&quot;: 4489.98886412873, &quot;stroke&quot;: true, &quot;weight&quot;: 3}\n",
       "            ).addTo(map_66ab073b3b375abd4f465f87bc0fa094);\n",
       "        \n",
       "    \n",
       "            var marker_3c30cfea381601c89ef03d3f235030a1 = L.marker(\n",
       "                [32.09453913235294, 35.14386074849588],\n",
       "                {}\n",
       "            ).addTo(map_66ab073b3b375abd4f465f87bc0fa094);\n",
       "        \n",
       "    \n",
       "            marker_3c30cfea381601c89ef03d3f235030a1.bindTooltip(\n",
       "                `&lt;div&gt;\n",
       "                     District: Salfit, Fatalities: 34\n",
       "                 &lt;/div&gt;`,\n",
       "                {&quot;sticky&quot;: true}\n",
       "            );\n",
       "        \n",
       "    \n",
       "            var circle_296ea6e03b7763c70b410f905523612a = L.circle(\n",
       "                [32.09453913235294, 35.14386074849588],\n",
       "                {&quot;bubblingMouseEvents&quot;: true, &quot;color&quot;: &quot;grey&quot;, &quot;dashArray&quot;: null, &quot;dashOffset&quot;: null, &quot;fill&quot;: true, &quot;fillColor&quot;: &quot;grey&quot;, &quot;fillOpacity&quot;: 0.6, &quot;fillRule&quot;: &quot;evenodd&quot;, &quot;lineCap&quot;: &quot;round&quot;, &quot;lineJoin&quot;: &quot;round&quot;, &quot;opacity&quot;: 1.0, &quot;radius&quot;: 6997.142273814361, &quot;stroke&quot;: true, &quot;weight&quot;: 3}\n",
       "            ).addTo(map_66ab073b3b375abd4f465f87bc0fa094);\n",
       "        \n",
       "    \n",
       "            var marker_e252a4fa550d990e43ee0a5caa4009f2 = L.marker(\n",
       "                [5.377986440000001, 28.519257520000004],\n",
       "                {}\n",
       "            ).addTo(map_66ab073b3b375abd4f465f87bc0fa094);\n",
       "        \n",
       "    \n",
       "            marker_e252a4fa550d990e43ee0a5caa4009f2.bindTooltip(\n",
       "                `&lt;div&gt;\n",
       "                     District: East Jerusalem, Fatalities: 5\n",
       "                 &lt;/div&gt;`,\n",
       "                {&quot;sticky&quot;: true}\n",
       "            );\n",
       "        \n",
       "    \n",
       "            var circle_6a7a7c359f6b0c7bafa10c34f9e79280 = L.circle(\n",
       "                [5.377986440000001, 28.519257520000004],\n",
       "                {&quot;bubblingMouseEvents&quot;: true, &quot;color&quot;: &quot;grey&quot;, &quot;dashArray&quot;: null, &quot;dashOffset&quot;: null, &quot;fill&quot;: true, &quot;fillColor&quot;: &quot;grey&quot;, &quot;fillOpacity&quot;: 0.6, &quot;fillRule&quot;: &quot;evenodd&quot;, &quot;lineCap&quot;: &quot;round&quot;, &quot;lineJoin&quot;: &quot;round&quot;, &quot;opacity&quot;: 1.0, &quot;radius&quot;: 2683.281572999748, &quot;stroke&quot;: true, &quot;weight&quot;: 3}\n",
       "            ).addTo(map_66ab073b3b375abd4f465f87bc0fa094);\n",
       "        \n",
       "    \n",
       "            var marker_03d77fa80e9fa32fa914e035a0d65a70 = L.marker(\n",
       "                [31.5410975, 34.4633677],\n",
       "                {}\n",
       "            ).addTo(map_66ab073b3b375abd4f465f87bc0fa094);\n",
       "        \n",
       "    \n",
       "            marker_03d77fa80e9fa32fa914e035a0d65a70.bindTooltip(\n",
       "                `&lt;div&gt;\n",
       "                     District: Gaza Strip, Fatalities: 4\n",
       "                 &lt;/div&gt;`,\n",
       "                {&quot;sticky&quot;: true}\n",
       "            );\n",
       "        \n",
       "    \n",
       "            var circle_3b07753baac680a04369b71a9b66bf84 = L.circle(\n",
       "                [31.5410975, 34.4633677],\n",
       "                {&quot;bubblingMouseEvents&quot;: true, &quot;color&quot;: &quot;grey&quot;, &quot;dashArray&quot;: null, &quot;dashOffset&quot;: null, &quot;fill&quot;: true, &quot;fillColor&quot;: &quot;grey&quot;, &quot;fillOpacity&quot;: 0.6, &quot;fillRule&quot;: &quot;evenodd&quot;, &quot;lineCap&quot;: &quot;round&quot;, &quot;lineJoin&quot;: &quot;round&quot;, &quot;opacity&quot;: 1.0, &quot;radius&quot;: 2400.0, &quot;stroke&quot;: true, &quot;weight&quot;: 3}\n",
       "            ).addTo(map_66ab073b3b375abd4f465f87bc0fa094);\n",
       "        \n",
       "    \n",
       "            var marker_2e029b7d8f07231ba1eb9c5c5812d741 = L.marker(\n",
       "                [31.345847935416668, 34.26951743750001],\n",
       "                {}\n",
       "            ).addTo(map_66ab073b3b375abd4f465f87bc0fa094);\n",
       "        \n",
       "    \n",
       "            marker_2e029b7d8f07231ba1eb9c5c5812d741.bindTooltip(\n",
       "                `&lt;div&gt;\n",
       "                     District: Gush Katif, Fatalities: 48\n",
       "                 &lt;/div&gt;`,\n",
       "                {&quot;sticky&quot;: true}\n",
       "            );\n",
       "        \n",
       "    \n",
       "            var circle_597e9f7245b6238bce4685c61ee03303 = L.circle(\n",
       "                [31.345847935416668, 34.26951743750001],\n",
       "                {&quot;bubblingMouseEvents&quot;: true, &quot;color&quot;: &quot;grey&quot;, &quot;dashArray&quot;: null, &quot;dashOffset&quot;: null, &quot;fill&quot;: true, &quot;fillColor&quot;: &quot;grey&quot;, &quot;fillOpacity&quot;: 0.6, &quot;fillRule&quot;: &quot;evenodd&quot;, &quot;lineCap&quot;: &quot;round&quot;, &quot;lineJoin&quot;: &quot;round&quot;, &quot;opacity&quot;: 1.0, &quot;radius&quot;: 8313.843876330611, &quot;stroke&quot;: true, &quot;weight&quot;: 3}\n",
       "            ).addTo(map_66ab073b3b375abd4f465f87bc0fa094);\n",
       "        \n",
       "    \n",
       "            var layer_control_10603d5b331edff85732a0a92934acef_layers = {\n",
       "                base_layers : {\n",
       "                    &quot;openstreetmap&quot; : tile_layer_22a36d129eb0bfcfdc2ae223ad7e0390,\n",
       "                },\n",
       "                overlays :  {\n",
       "                },\n",
       "            };\n",
       "            let layer_control_10603d5b331edff85732a0a92934acef = L.control.layers(\n",
       "                layer_control_10603d5b331edff85732a0a92934acef_layers.base_layers,\n",
       "                layer_control_10603d5b331edff85732a0a92934acef_layers.overlays,\n",
       "                {&quot;autoZIndex&quot;: true, &quot;collapsed&quot;: true, &quot;position&quot;: &quot;topright&quot;}\n",
       "            ).addTo(map_66ab073b3b375abd4f465f87bc0fa094);\n",
       "\n",
       "        \n",
       "&lt;/script&gt;\n",
       "&lt;/html&gt;\" style=\"position:absolute;width:100%;height:100%;left:0;top:0;border:none !important;\" allowfullscreen webkitallowfullscreen mozallowfullscreen></iframe></div></div>"
      ],
      "text/plain": [
       "<folium.folium.Map at 0x188af7993a0>"
      ]
     },
     "execution_count": 28,
     "metadata": {},
     "output_type": "execute_result"
    }
   ],
   "source": [
    "district_fatalities = df.groupby('event_location_district').size()\n",
    "\n",
    "# Function to determine the color of the circle based on the number of fatalities\n",
    "def get_color(fatalities):\n",
    "    if fatalities > 1000:\n",
    "        return 'darkred'\n",
    "    elif 500 <= fatalities <= 1000:\n",
    "        return 'green'\n",
    "    elif 50 <= fatalities < 500:\n",
    "        return 'orange'\n",
    "    else:\n",
    "        return 'grey'\n",
    "\n",
    "\n",
    "m = folium.Map(location=[32, 34.75], zoom_start=8)\n",
    "\n",
    "# maker, tooltip \n",
    "for district, coords in district_coords.items():\n",
    "    fatalities = district_fatalities.get(district, 0)\n",
    "    folium.Marker(\n",
    "        location=coords,\n",
    "        tooltip=f'District: {district}, Fatalities: {fatalities}',\n",
    "        icon=None\n",
    "    ).add_to(m)\n",
    "    folium.Circle(\n",
    "        location=coords,\n",
    "        radius=np.sqrt(fatalities) * 1200,\n",
    "        color=get_color(fatalities),\n",
    "        fill=True,\n",
    "        fill_color=get_color(fatalities),\n",
    "        fill_opacity=0.6,\n",
    "    ).add_to(m)\n",
    "\n",
    "\n",
    "folium.LayerControl().add_to(m)\n",
    "\n",
    "m"
   ]
  },
  {
   "cell_type": "markdown",
   "metadata": {},
   "source": [
    "For more information on Geo spatial analysis, check out the fllowing articles:\n",
    "\n",
    "1. https://www.datacamp.com/tutorial/geospatial-data-python\n",
    "2. https://www.datacamp.com/tutorial/geopandas-tutorial-geospatial-analysis\n",
    "3. https://www.learndatasci.com/tutorials/geospatial-data-python-geopandas-shapely/\n",
    "4. https://towardsdatascience.com/geospatial-analysis-in-python-and-jupyter-notebooks-f90de25b0777"
   ]
  },
  {
   "cell_type": "markdown",
   "metadata": {},
   "source": [
    "### 4. **Hostilities Participation Analysis**:\n",
    "\n",
    "Investigate the extent of individuals' participation in hostilities before their deaths. Analyze the relationship between participation and the circumstances surrounding each fatality."
   ]
  },
  {
   "cell_type": "code",
   "execution_count": 101,
   "metadata": {
    "scrolled": true
   },
   "outputs": [],
   "source": [
    "war['took_part_in_the_hostilities'] = war['took_part_in_the_hostilities'].replace('Israelis', 'No')"
   ]
  },
  {
   "cell_type": "code",
   "execution_count": 102,
   "metadata": {},
   "outputs": [],
   "source": [
    "from matplotlib.patches import ConnectionPatch"
   ]
  },
  {
   "cell_type": "code",
   "execution_count": 103,
   "metadata": {},
   "outputs": [
    {
     "data": {
      "image/png": "[encoded data removed]",
      "text/plain": [
       "<Figure size 648x360 with 2 Axes>"
      ]
     },
     "metadata": {
      "needs_background": "light"
     },
     "output_type": "display_data"
    }
   ],
   "source": [
    "# Filter DataFrame for those who participated in the war ('yes')\n",
    "war_participants = war[war['took_part_in_the_hostilities'] == 'Yes']\n",
    "\n",
    "# Calculate age distribution of war participants\n",
    "age_distribution = war['age_range'].value_counts(normalize=True).sort_index()\n",
    "war_distribution = war['took_part_in_the_hostilities'].value_counts(normalize=True).sort_index()\n",
    "\n",
    "# make figure and assign axis objects\n",
    "fig, (ax1, ax2) = plt.subplots(1, 2, figsize=(9, 5))\n",
    "fig.subplots_adjust(wspace=0)\n",
    "\n",
    "# pie chart parameters\n",
    "overall_ratios = war_distribution.values.tolist()\n",
    "labels = ['No', 'Object of targeted killing', 'Unknown', 'Yes'] #war_distribution.index.tolist()\n",
    "\n",
    "explode = [0.1, 0, 0, 0]\n",
    "# rotate so that the first wedge is split by the x-axis\n",
    "angle = -180 * overall_ratios[0]\n",
    "wedges, *_ = ax1.pie(overall_ratios, autopct='%1.1f%%', startangle=angle,\n",
    "                     labels=labels, explode=explode)\n",
    "\n",
    "# bar chart parameters\n",
    "age_labels = age_distribution.index.tolist()\n",
    "age_ratios = age_distribution.values.tolist()\n",
    "bottom = 1\n",
    "width = 0.2\n",
    "\n",
    "# Adding from the top matches the legend.\n",
    "for j, (height, label) in enumerate(reversed([*zip(age_ratios, age_labels)])):\n",
    "    bottom -= height\n",
    "    bc = ax2.bar(0, height, width, bottom=bottom, color='C0', label=label,\n",
    "                 alpha=0.1 + 0.25 * j)\n",
    "    ax2.bar_label(bc, labels=[f\"{height:.0%}\"], label_type='center')\n",
    "\n",
    "ax2.set_title('Age of War Participants')\n",
    "ax2.legend()\n",
    "ax2.axis('off')\n",
    "ax2.set_xlim(-2.5 * width, 2.5 * width)\n",
    "\n",
    "# use ConnectionPatch to draw lines between the two plots\n",
    "theta1, theta2 = wedges[3].theta1, wedges[3].theta2 #connect to 'yes'\n",
    "center, r = wedges[3].center, wedges[3].r\n",
    "bar_height = sum(age_ratios)\n",
    "\n",
    "# draw top connecting line\n",
    "x = r * np.cos(np.pi / 180 * theta2) + center[0]\n",
    "y = r * np.sin(np.pi / 180 * theta2) + center[1]\n",
    "con = ConnectionPatch(xyA=(-width / 2, bar_height), coordsA=ax2.transData,\n",
    "                      xyB=(x, y), coordsB=ax1.transData)\n",
    "con.set_color([0, 0, 0])\n",
    "con.set_linewidth(2)\n",
    "ax2.add_artist(con)\n",
    "\n",
    "# draw bottom connecting line\n",
    "x = r * np.cos(np.pi / 180 * theta1) + center[0]\n",
    "y = r * np.sin(np.pi / 180 * theta1) + center[1]\n",
    "con = ConnectionPatch(xyA=(-width / 2, 0), coordsA=ax2.transData,\n",
    "                      xyB=(x, y), coordsB=ax1.transData)\n",
    "con.set_color([0, 0, 0])\n",
    "ax2.add_artist(con)\n",
    "con.set_linewidth(2)\n",
    "\n",
    "plt.show()"
   ]
  },
  {
   "cell_type": "markdown",
   "metadata": {},
   "source": [
    "### 5. **Injury Analysis**: \n",
    "\n",
    "Examine the types of injuries inflicted on individuals. Identify the most common types of injuries and assess their severity.\n",
    "\n"
   ]
  },
  {
   "cell_type": "code",
   "execution_count": null,
   "metadata": {},
   "outputs": [],
   "source": [
    "#from matplotlib import colormaps\n",
    "#list(colormaps)"
   ]
  },
  {
   "cell_type": "code",
   "execution_count": 106,
   "metadata": {},
   "outputs": [
    {
     "data": {
      "image/png": "[encoded data removed]",
      "text/plain": [
       "<Figure size 720x720 with 1 Axes>"
      ]
     },
     "metadata": {
      "needs_background": "light"
     },
     "output_type": "display_data"
    }
   ],
   "source": [
    "injury_distribution = war['type_of_injury'].value_counts(normalize=True).sort_index()\n",
    "\n",
    "x= injury_distribution.index.tolist()\n",
    "y = injury_distribution.values.tolist()\n",
    "\n",
    "fig, ax = plt.subplots(figsize=(10,10))\n",
    "bar_container = ax.barh(x,y, height =0.5); #visit https://html-color.codes/ to choose any hex color \n",
    "ax.set(xlabel='Types of Injury',ylabel= 'Count')\n",
    "\n",
    "#remove spines\n",
    "for location in ['top','bottom','left','right']:\n",
    "    ax.spines[location].set_visible(False)\n",
    "    \n",
    "#remove x and y ticks\n",
    "ax.tick_params(bottom=False,left=False)\n",
    "ax.set_xticks([])  # Remove x-ticks\n",
    "\n",
    "#set titles\n",
    "ax.text(x=0.2, y=14.5, s='Type of Injury Inflicted on Individuals',\n",
    "        size=15, weight='bold');"
   ]
  },
  {
   "cell_type": "markdown",
   "metadata": {},
   "source": [
    "### 6. **Weapons Used**: \n",
    "\n",
    "Analyze the ammunition and means by which the individuals were killed. Determine the most frequently used weapons or methods and evaluate their impact.\n"
   ]
  },
  {
   "cell_type": "code",
   "execution_count": 107,
   "metadata": {},
   "outputs": [
    {
     "data": {
      "image/png": "[encoded data removed]",
      "text/plain": [
       "<Figure size 720x720 with 1 Axes>"
      ]
     },
     "metadata": {
      "needs_background": "light"
     },
     "output_type": "display_data"
    }
   ],
   "source": [
    "ammonition_dist = war['ammunition'].value_counts().sort_index()\n",
    "\n",
    "x= ammonition_dist.index.tolist()\n",
    "y = ammonition_dist.values.tolist()\n",
    "\n",
    "fig, ax = plt.subplots(figsize=(10,10))\n",
    "bar_container = ax.barh(x,y, height =0.5, color='#14a3a2'); #visit https://html-color.codes/ to choose any hex color \n",
    "ax.set(xlabel='Types of Ammonition',ylabel= 'No of people killed')\n",
    "\n",
    "# Add count labels beside the bars\n",
    "for index, value in enumerate(y):\n",
    "    ax.text(value, index, f'{value}', va='center')\n",
    "\n",
    "#remove spines\n",
    "for location in ['top','bottom','left','right']:\n",
    "    ax.spines[location].set_visible(False)\n",
    "    \n",
    "#remove x and y ticks\n",
    "ax.tick_params(bottom=False,left=False)\n",
    "ax.set_xticks([])  # Remove x-ticks\n",
    "\n",
    "#set titles\n",
    "ax.text(x=0.15, y=22.5, s='Distribution of Deaths by the Ammonition',\n",
    "        size=15, weight='bold');"
   ]
  },
  {
   "cell_type": "markdown",
   "metadata": {},
   "source": [
    "### 7. **Victim Profiles**: \n",
    "\n",
    "Create profiles of the victims based on the available data such as age, gender, citizenship, and place of residence. Identify common characteristics among the victims."
   ]
  },
  {
   "cell_type": "code",
   "execution_count": null,
   "metadata": {},
   "outputs": [],
   "source": []
  },
  {
   "cell_type": "code",
   "execution_count": null,
   "metadata": {},
   "outputs": [],
   "source": []
  }
 ],
 "metadata": {
  "kernelspec": {
   "display_name": "Python 3 (ipykernel)",
   "language": "python",
   "name": "python3"
  },
  "language_info": {
   "codemirror_mode": {
    "name": "ipython",
    "version": 3
   },
   "file_extension": ".py",
   "mimetype": "text/x-python",
   "name": "python",
   "nbconvert_exporter": "python",
   "pygments_lexer": "ipython3",
   "version": "3.9.12"
  }
 },
 "nbformat": 4,
 "nbformat_minor": 4
}
